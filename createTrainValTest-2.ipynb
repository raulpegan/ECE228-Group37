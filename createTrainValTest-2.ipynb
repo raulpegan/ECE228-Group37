{
 "cells": [
  {
   "cell_type": "markdown",
   "metadata": {},
   "source": [
    "Makes training, validation and test directories and subdirectories"
   ]
  },
  {
   "cell_type": "code",
   "execution_count": 1,
   "metadata": {},
   "outputs": [],
   "source": [
    "import os\n",
    "dx = ['akiec', 'bcc', 'bkl', 'df', 'mel', 'nv', 'vasc']\n",
    "tvt = ['train','val','test']\n",
    "for parent in tvt:\n",
    "    os.mkdir(parent)\n",
    "    for i in dx:\n",
    "        s = parent + '/' + i\n",
    "        os.mkdir(s)"
   ]
  },
  {
   "cell_type": "markdown",
   "metadata": {},
   "source": [
    "shuffles and moves jpg files from unzipped HAM10000_images_part_1 and HAM10000_images_part_2 to train/, val/, and test/ folders"
   ]
  },
  {
   "cell_type": "code",
   "execution_count": 2,
   "metadata": {},
   "outputs": [],
   "source": [
    "import numpy as np\n",
    "import pandas as pd\n",
    "\n",
    "metadata_path = './skin-cancer-mnist-ham10000/HAM10000_metadata.csv'\n",
    "metadat = pd.read_csv(metadata_path)\n",
    "num_samples = len(metadat)\n",
    "metadat = metadat.sample(frac=1,random_state=12).reset_index(drop=True) #shuffling data\n",
    "\n",
    "trainset = int(len(metadat)*0.8)\n",
    "train = int(trainset*0.2)\n",
    "\n",
    "for j in range(4):\n",
    "    for i in range(j*train,(j+1)*train):\n",
    "        try:\n",
    "            s = './skin-cancer-mnist-ham10000/HAM10000_images_part_1/' + metadat['image_id'][i] + '.jpg'\n",
    "            snew = './train'+ '/' + metadat['dx'][i] +'/' + metadat['image_id'][i] + '.jpg'\n",
    "            os.rename(s,snew)\n",
    "        except:\n",
    "            s = './skin-cancer-mnist-ham10000/HAM10000_images_part_2/' + metadat['image_id'][i] + '.jpg'\n",
    "            snew = './train'+ '/' + metadat['dx'][i] +'/' + metadat['image_id'][i] + '.jpg'\n",
    "            os.rename(s,snew)\n",
    "for i in range(4*train,5*train):\n",
    "    try:\n",
    "        s = './skin-cancer-mnist-ham10000/HAM10000_images_part_1/' + metadat['image_id'][i] + '.jpg'\n",
    "        snew = './val/' + metadat['dx'][i] +'/' + metadat['image_id'][i] + '.jpg'\n",
    "        os.rename(s,snew)\n",
    "    except:\n",
    "        s = './skin-cancer-mnist-ham10000/HAM10000_images_part_2/' + metadat['image_id'][i] + '.jpg'\n",
    "        snew = './val/' + metadat['dx'][i] +'/' + metadat['image_id'][i] + '.jpg'\n",
    "        os.rename(s,snew)\n",
    "for i in range(trainset,len(metadat)):\n",
    "    try:\n",
    "        s = './skin-cancer-mnist-ham10000/HAM10000_images_part_1/' + metadat['image_id'][i] + '.jpg'\n",
    "        snew = './test/' + metadat['dx'][i] +'/' + metadat['image_id'][i] + '.jpg'\n",
    "        os.rename(s,snew)\n",
    "    except:\n",
    "        s = './skin-cancer-mnist-ham10000/HAM10000_images_part_2/' + metadat['image_id'][i] + '.jpg'\n",
    "        snew = './test/' + metadat['dx'][i] +'/' + metadat['image_id'][i] + '.jpg'\n",
    "        os.rename(s,snew)"
   ]
  },
  {
   "cell_type": "code",
   "execution_count": 3,
   "metadata": {},
   "outputs": [],
   "source": [
    "# makes copies of undersampled training data until 600-700 images each class\n",
    "# or moves oversampled data to temporary file\n",
    "\n",
    "from os import listdir\n",
    "from shutil import copyfile\n",
    "\n",
    "dx = ['akiec', 'bcc', 'bkl', 'df', 'mel', 'nv', 'vasc']\n",
    "\n",
    "for i in dx:\n",
    "    path = './train/' + i\n",
    "    files = listdir(path)\n",
    "    l = len(files)\n",
    "    num_copies = 600//l\n",
    "    count = 1\n",
    "    for n in range(num_copies):\n",
    "        for j in files:\n",
    "            oldpath = path + '/' + j\n",
    "            copypath = path + '/copy' + str(count) + '.jpg'\n",
    "            copyfile(oldpath,copypath)\n",
    "            count += 1\n",
    "    if num_copies == 0:\n",
    "        os.mkdir('temp_'+i)\n",
    "        for j in range(l - 700):\n",
    "            oldpath = path + '/' + files[j]\n",
    "            newpath = 'temp_' + i + '/' + files[j]\n",
    "            os.rename(oldpath,newpath)"
   ]
  },
  {
   "cell_type": "code",
   "execution_count": 4,
   "metadata": {},
   "outputs": [],
   "source": [
    "# makes copies of undersampled validation data until 600-700 images each class\n",
    "# or moves oversampled data to temporary file\n",
    "import os\n",
    "from os import listdir\n",
    "from shutil import copyfile\n",
    "\n",
    "dx = ['akiec', 'bcc', 'bkl', 'df', 'mel', 'nv', 'vasc']\n",
    "\n",
    "for i in dx:\n",
    "    path = './val/' + i\n",
    "    files = listdir(path)\n",
    "    l = len(files)\n",
    "    num_copies = 200//l\n",
    "    count = 1\n",
    "    for n in range(num_copies):\n",
    "        for j in files:\n",
    "            oldpath = path + '/' + j\n",
    "            copypath = path + '/copy' + str(count) + '.jpg'\n",
    "            copyfile(oldpath,copypath)\n",
    "            count += 1\n",
    "    if num_copies == 0:\n",
    "        os.mkdir('temp_val_'+i)\n",
    "        for j in range(l - 200):\n",
    "            oldpath = path + '/' + files[j]\n",
    "            newpath = 'temp_val_' + i + '/' + files[j]\n",
    "            os.rename(oldpath,newpath)"
   ]
  },
  {
   "cell_type": "code",
   "execution_count": null,
   "metadata": {},
   "outputs": [],
   "source": []
  }
 ],
 "metadata": {
  "kernelspec": {
   "display_name": "Python 3",
   "language": "python",
   "name": "python3"
  },
  "language_info": {
   "codemirror_mode": {
    "name": "ipython",
    "version": 3
   },
   "file_extension": ".py",
   "mimetype": "text/x-python",
   "name": "python",
   "nbconvert_exporter": "python",
   "pygments_lexer": "ipython3",
   "version": "3.6.8"
  }
 },
 "nbformat": 4,
 "nbformat_minor": 2
}
