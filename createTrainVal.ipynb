{
 "cells": [
  {
   "cell_type": "code",
   "execution_count": 5,
   "metadata": {},
   "outputs": [],
   "source": [
    "import os\n",
    "import numpy as np\n",
    "import pandas as pd\n",
    "\n",
    "metadata_path = './skin-cancer-mnist-ham10000/HAM10000_metadata.csv'\n",
    "metadat = pd.read_csv(metadata_path)\n",
    "num_samples = len(metadat)\n",
    "metadat = metadat.sample(frac=1,random_state=12).reset_index(drop=True) #shuffling data\n",
    "\n",
    "trainset = int(len(metadat)*0.8)\n",
    "train = int(trainset*0.8)\n",
    "val = int(trainset*0.2)\n",
    "\n",
    "# os.mkdir('train')\n",
    "# os.mkdir('val')\n",
    "for i in range(train):\n",
    "    s = './skin-cancer-mnist-ham10000/HAM10000_images_part_1/' + metadat['image_id'][i] + '.jpg'\n",
    "    snew = './train/' + metadat['image_id'][i] + '.jpg'\n",
    "    os.rename(snew,s)\n",
    "for i in range(train,train+val):\n",
    "    s = './skin-cancer-mnist-ham10000/HAM10000_images_part_1/' + metadat['image_id'][i] + '.jpg'\n",
    "    snew = './val/' + metadat['image_id'][i] + '.jpg'\n",
    "    os.rename(snew,s)"
   ]
  },
  {
   "cell_type": "code",
   "execution_count": 7,
   "metadata": {},
   "outputs": [],
   "source": [
    "for i in range(train):\n",
    "    s = './skin-cancer-mnist-ham10000/HAM10000_images_part_1/' + metadat['image_id'][i] + '.jpg'\n",
    "    snew = './train/' + metadat['dx'][i] +'/' + metadat['image_id'][i] + '.jpg'\n",
    "    os.rename(s,snew)\n",
    "for i in range(train,train+val):\n",
    "    s = './skin-cancer-mnist-ham10000/HAM10000_images_part_1/' + metadat['image_id'][i] + '.jpg'\n",
    "    snew = './val/' + metadat['dx'][i] +'/' + metadat['image_id'][i] + '.jpg'\n",
    "    os.rename(s,snew)"
   ]
  },
  {
   "cell_type": "code",
   "execution_count": null,
   "metadata": {},
   "outputs": [],
   "source": []
  }
 ],
 "metadata": {
  "kernelspec": {
   "display_name": "Python 3",
   "language": "python",
   "name": "python3"
  },
  "language_info": {
   "codemirror_mode": {
    "name": "ipython",
    "version": 3
   },
   "file_extension": ".py",
   "mimetype": "text/x-python",
   "name": "python",
   "nbconvert_exporter": "python",
   "pygments_lexer": "ipython3",
   "version": "3.6.8"
  }
 },
 "nbformat": 4,
 "nbformat_minor": 2
}
