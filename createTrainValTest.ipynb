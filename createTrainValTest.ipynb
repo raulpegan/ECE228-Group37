{
 "cells": [
  {
   "cell_type": "markdown",
   "metadata": {},
   "source": [
    "Makes training, validation and test directories and subdirectories"
   ]
  },
  {
   "cell_type": "code",
   "execution_count": 4,
   "metadata": {},
   "outputs": [],
   "source": [
    "import os\n",
    "dx = ['akiec', 'bcc', 'bkl', 'df', 'mel', 'nv', 'vasc']\n",
    "tvt = ['train','val','test']\n",
    "for parent in tvt:\n",
    "    os.mkdir(parent)\n",
    "    for i in dx:\n",
    "        s = parent + '/' + i\n",
    "        os.mkdir(s)"
   ]
  },
  {
   "cell_type": "markdown",
   "metadata": {},
   "source": [
    "shuffles and moves jpg files from unzipped HAM10000_images_part_1 and HAM10000_images_part_2 to train/, val/, and test/ folders"
   ]
  },
  {
   "cell_type": "code",
   "execution_count": 6,
   "metadata": {},
   "outputs": [],
   "source": [
    "import numpy as np\n",
    "import pandas as pd\n",
    "\n",
    "metadata_path = './skin-cancer-mnist-ham10000/HAM10000_metadata.csv'\n",
    "metadat = pd.read_csv(metadata_path)\n",
    "num_samples = len(metadat)\n",
    "metadat = metadat.sample(frac=1,random_state=12).reset_index(drop=True) #shuffling data\n",
    "\n",
    "trainset = int(len(metadat)*0.8)\n",
    "train = int(trainset*0.2)\n",
    "\n",
    "for j in range(4):\n",
    "    for i in range(j*train,(j+1)*train):\n",
    "        try:\n",
    "            s = './skin-cancer-mnist-ham10000/HAM10000_images_part_1/' + metadat['image_id'][i] + '.jpg'\n",
    "            snew = './train'+ '/' + metadat['dx'][i] +'/' + metadat['image_id'][i] + '.jpg'\n",
    "            os.rename(s,snew)\n",
    "        except:\n",
    "            s = './skin-cancer-mnist-ham10000/HAM10000_images_part_2/' + metadat['image_id'][i] + '.jpg'\n",
    "            snew = './train'+ '/' + metadat['dx'][i] +'/' + metadat['image_id'][i] + '.jpg'\n",
    "            os.rename(s,snew)\n",
    "for i in range(4*train,5*train):\n",
    "    try:\n",
    "        s = './skin-cancer-mnist-ham10000/HAM10000_images_part_1/' + metadat['image_id'][i] + '.jpg'\n",
    "        snew = './val/' + metadat['dx'][i] +'/' + metadat['image_id'][i] + '.jpg'\n",
    "        os.rename(s,snew)\n",
    "    except:\n",
    "        s = './skin-cancer-mnist-ham10000/HAM10000_images_part_2/' + metadat['image_id'][i] + '.jpg'\n",
    "        snew = './val/' + metadat['dx'][i] +'/' + metadat['image_id'][i] + '.jpg'\n",
    "        os.rename(s,snew)\n",
    "for i in range(trainset,len(metadat)):\n",
    "    try:\n",
    "        s = './skin-cancer-mnist-ham10000/HAM10000_images_part_1/' + metadat['image_id'][i] + '.jpg'\n",
    "        snew = './test/' + metadat['dx'][i] +'/' + metadat['image_id'][i] + '.jpg'\n",
    "        os.rename(s,snew)\n",
    "    except:\n",
    "        s = './skin-cancer-mnist-ham10000/HAM10000_images_part_2/' + metadat['image_id'][i] + '.jpg'\n",
    "        snew = './test/' + metadat['dx'][i] +'/' + metadat['image_id'][i] + '.jpg'\n",
    "        os.rename(s,snew)"
   ]
  },
  {
   "cell_type": "code",
   "execution_count": null,
   "metadata": {},
   "outputs": [],
   "source": []
  }
 ],
 "metadata": {
  "kernelspec": {
   "display_name": "Python 3",
   "language": "python",
   "name": "python3"
  },
  "language_info": {
   "codemirror_mode": {
    "name": "ipython",
    "version": 3
   },
   "file_extension": ".py",
   "mimetype": "text/x-python",
   "name": "python",
   "nbconvert_exporter": "python",
   "pygments_lexer": "ipython3",
   "version": "3.6.8"
  }
 },
 "nbformat": 4,
 "nbformat_minor": 2
}
